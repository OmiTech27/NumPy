{
 "cells": [
  {
   "cell_type": "markdown",
   "id": "091fe533",
   "metadata": {},
   "source": [
    "# Python NumPy "
   ]
  },
  {
   "cell_type": "markdown",
   "id": "a2e4b361",
   "metadata": {},
   "source": [
    "# Create 1D Array Using Conversion Method list as np.array"
   ]
  },
  {
   "cell_type": "code",
   "execution_count": 1,
   "id": "e5462ed6",
   "metadata": {},
   "outputs": [],
   "source": [
    "import numpy as np"
   ]
  },
  {
   "cell_type": "code",
   "execution_count": 2,
   "id": "ebb536ab",
   "metadata": {},
   "outputs": [],
   "source": [
    "Arr1 = np.array([1,2,3,4,5,6,7])"
   ]
  },
  {
   "cell_type": "code",
   "execution_count": 3,
   "id": "8346c9b9",
   "metadata": {},
   "outputs": [
    {
     "data": {
      "text/plain": [
       "array([1, 2, 3, 4, 5, 6, 7])"
      ]
     },
     "execution_count": 3,
     "metadata": {},
     "output_type": "execute_result"
    }
   ],
   "source": [
    "Arr1"
   ]
  },
  {
   "cell_type": "markdown",
   "id": "b7111e06",
   "metadata": {},
   "source": [
    "# Create 2D Array"
   ]
  },
  {
   "cell_type": "code",
   "execution_count": 4,
   "id": "7b53ea64",
   "metadata": {},
   "outputs": [],
   "source": [
    "Arr2 = np.array([[1,2,3],[2,4,5],[4,2,0]])"
   ]
  },
  {
   "cell_type": "code",
   "execution_count": 5,
   "id": "5df25b20",
   "metadata": {},
   "outputs": [
    {
     "data": {
      "text/plain": [
       "array([[1, 2, 3],\n",
       "       [2, 4, 5],\n",
       "       [4, 2, 0]])"
      ]
     },
     "execution_count": 5,
     "metadata": {},
     "output_type": "execute_result"
    }
   ],
   "source": [
    "Arr2"
   ]
  },
  {
   "cell_type": "markdown",
   "id": "9245c1d3",
   "metadata": {},
   "source": [
    "# Attributes"
   ]
  },
  {
   "cell_type": "code",
   "execution_count": 6,
   "id": "6b7091a5",
   "metadata": {},
   "outputs": [
    {
     "data": {
      "text/plain": [
       "dtype('int32')"
      ]
     },
     "execution_count": 6,
     "metadata": {},
     "output_type": "execute_result"
    }
   ],
   "source": [
    "Arr2.dtype"
   ]
  },
  {
   "cell_type": "code",
   "execution_count": 7,
   "id": "b2b93483",
   "metadata": {},
   "outputs": [
    {
     "data": {
      "text/plain": [
       "(3, 3)"
      ]
     },
     "execution_count": 7,
     "metadata": {},
     "output_type": "execute_result"
    }
   ],
   "source": [
    "Arr2.shape"
   ]
  },
  {
   "cell_type": "code",
   "execution_count": 8,
   "id": "8d08e48f",
   "metadata": {},
   "outputs": [
    {
     "data": {
      "text/plain": [
       "9"
      ]
     },
     "execution_count": 8,
     "metadata": {},
     "output_type": "execute_result"
    }
   ],
   "source": [
    "Arr2.size"
   ]
  },
  {
   "cell_type": "code",
   "execution_count": 9,
   "id": "1a7db3b8",
   "metadata": {},
   "outputs": [
    {
     "data": {
      "text/plain": [
       "7"
      ]
     },
     "execution_count": 9,
     "metadata": {},
     "output_type": "execute_result"
    }
   ],
   "source": [
    "Arr1.size"
   ]
  },
  {
   "cell_type": "markdown",
   "id": "2747712b",
   "metadata": {},
   "source": [
    "# Access Array Index"
   ]
  },
  {
   "cell_type": "code",
   "execution_count": null,
   "id": "fa320d31",
   "metadata": {},
   "outputs": [
    {
     "data": {
      "text/plain": [
       "4"
      ]
     },
     "execution_count": 10,
     "metadata": {},
     "output_type": "execute_result"
    }
   ],
   "source": [
    "Arr1[3]"
   ]
  },
  {
   "cell_type": "code",
   "execution_count": null,
   "id": "a41f302e",
   "metadata": {},
   "outputs": [],
   "source": [
    "#for 2d array \n",
    "Arr2[0,2]"
   ]
  },
  {
   "cell_type": "code",
   "execution_count": null,
   "id": "fbf20b47",
   "metadata": {},
   "outputs": [],
   "source": [
    "Arr2[1,1]"
   ]
  },
  {
   "cell_type": "markdown",
   "id": "c68f096e",
   "metadata": {},
   "source": [
    "# Change Element in Array"
   ]
  },
  {
   "cell_type": "code",
   "execution_count": null,
   "id": "5a0b716a",
   "metadata": {},
   "outputs": [],
   "source": [
    "Arr1[2] = 45"
   ]
  },
  {
   "cell_type": "code",
   "execution_count": null,
   "id": "decffbeb",
   "metadata": {},
   "outputs": [],
   "source": [
    "Arr1"
   ]
  },
  {
   "cell_type": "code",
   "execution_count": null,
   "id": "704fd9ff",
   "metadata": {},
   "outputs": [],
   "source": [
    "Arr2[0,2] = 44"
   ]
  },
  {
   "cell_type": "code",
   "execution_count": 16,
   "id": "284d369e",
   "metadata": {},
   "outputs": [],
   "source": [
    "Arr2"
   ]
  },
  {
   "cell_type": "markdown",
   "id": "db5c2a4d",
   "metadata": {},
   "source": [
    "# Define dtype (Data Type)"
   ]
  },
  {
   "cell_type": "code",
   "execution_count": 17,
   "id": "b469b5c0",
   "metadata": {},
   "outputs": [],
   "source": [
    "Array = np.array([2,3,4,66,7], np.int8)"
   ]
  },
  {
   "cell_type": "code",
   "execution_count": 18,
   "id": "c2ec19c0",
   "metadata": {},
   "outputs": [
    {
     "data": {
      "text/plain": [
       "array([ 2,  3,  4, 66,  7], dtype=int8)"
      ]
     },
     "execution_count": 18,
     "metadata": {},
     "output_type": "execute_result"
    }
   ],
   "source": [
    "Array"
   ]
  },
  {
   "cell_type": "code",
   "execution_count": 19,
   "id": "140d5ef9",
   "metadata": {},
   "outputs": [
    {
     "name": "stderr",
     "output_type": "stream",
     "text": [
      "C:\\Users\\OmiTech27\\AppData\\Local\\Temp\\ipykernel_18316\\1197044741.py:2: DeprecationWarning: NumPy will stop allowing conversion of out-of-bound Python integers to integer arrays.  The conversion of 6666666 to int8 will fail in the future.\n",
      "For the old behavior, usually:\n",
      "    np.array(value).astype(dtype)`\n",
      "will give the desired result (the cast overflows).\n",
      "  Array1 = np.array([2,3,4,6666666,7], np.int8)\n"
     ]
    }
   ],
   "source": [
    "# we Cannot store big value in dtype int8\n",
    "Array1 = np.array([2,3,4,6666666,7], np.int8)"
   ]
  },
  {
   "cell_type": "code",
   "execution_count": 20,
   "id": "2e6f9d6d",
   "metadata": {},
   "outputs": [],
   "source": [
    "Array1 = np.array([2,3,4,6666666,7], np.int32)"
   ]
  },
  {
   "cell_type": "code",
   "execution_count": 21,
   "id": "897084db",
   "metadata": {},
   "outputs": [
    {
     "data": {
      "text/plain": [
       "array([      2,       3,       4, 6666666,       7])"
      ]
     },
     "execution_count": 21,
     "metadata": {},
     "output_type": "execute_result"
    }
   ],
   "source": [
    "Array1"
   ]
  },
  {
   "cell_type": "markdown",
   "id": "256c7597",
   "metadata": {},
   "source": [
    "# Methods in Numpy"
   ]
  },
  {
   "cell_type": "code",
   "execution_count": 22,
   "id": "c2acd8bf",
   "metadata": {},
   "outputs": [],
   "source": [
    "#calculation of 2 Array\n",
    "arr = np.array([[1,2,3],[2,4,5],[4,2,0]])"
   ]
  },
  {
   "cell_type": "code",
   "execution_count": 23,
   "id": "49ce36ec",
   "metadata": {},
   "outputs": [],
   "source": [
    "arr1 = np.array([[2,3,3],[3,5,3],[1,2,0]])"
   ]
  },
  {
   "cell_type": "code",
   "execution_count": 24,
   "id": "56e87629",
   "metadata": {},
   "outputs": [
    {
     "data": {
      "text/plain": [
       "array([[3, 5, 6],\n",
       "       [5, 9, 8],\n",
       "       [5, 4, 0]])"
      ]
     },
     "execution_count": 24,
     "metadata": {},
     "output_type": "execute_result"
    }
   ],
   "source": [
    "arr + arr1"
   ]
  },
  {
   "cell_type": "code",
   "execution_count": 25,
   "id": "b485a6e9",
   "metadata": {},
   "outputs": [
    {
     "data": {
      "text/plain": [
       "array([[ 2,  6,  9],\n",
       "       [ 6, 20, 15],\n",
       "       [ 4,  4,  0]])"
      ]
     },
     "execution_count": 25,
     "metadata": {},
     "output_type": "execute_result"
    }
   ],
   "source": [
    "arr * arr1"
   ]
  },
  {
   "cell_type": "code",
   "execution_count": 26,
   "id": "8a860e7a",
   "metadata": {},
   "outputs": [
    {
     "data": {
      "text/plain": [
       "array([[-1, -1,  0],\n",
       "       [-1, -1,  2],\n",
       "       [ 3,  0,  0]])"
      ]
     },
     "execution_count": 26,
     "metadata": {},
     "output_type": "execute_result"
    }
   ],
   "source": [
    "arr - arr1"
   ]
  },
  {
   "cell_type": "markdown",
   "id": "fcb64b85",
   "metadata": {},
   "source": [
    "# Intrinsic numpy array array creation objects (e.g., arange, ones, zeros, etc.)"
   ]
  },
  {
   "cell_type": "code",
   "execution_count": 27,
   "id": "dd257b3b",
   "metadata": {},
   "outputs": [],
   "source": [
    "Arr_arange = np.arange(5)"
   ]
  },
  {
   "cell_type": "code",
   "execution_count": 28,
   "id": "59e4158e",
   "metadata": {},
   "outputs": [
    {
     "data": {
      "text/plain": [
       "array([0, 1, 2, 3, 4])"
      ]
     },
     "execution_count": 28,
     "metadata": {},
     "output_type": "execute_result"
    }
   ],
   "source": [
    "Arr_arange"
   ]
  },
  {
   "cell_type": "code",
   "execution_count": 29,
   "id": "f1a49848",
   "metadata": {},
   "outputs": [],
   "source": [
    "Arr_arange1= np.arange(1,4)"
   ]
  },
  {
   "cell_type": "code",
   "execution_count": 30,
   "id": "24e5f8b2",
   "metadata": {},
   "outputs": [
    {
     "data": {
      "text/plain": [
       "array([1, 2, 3])"
      ]
     },
     "execution_count": 30,
     "metadata": {},
     "output_type": "execute_result"
    }
   ],
   "source": [
    "Arr_arange1"
   ]
  },
  {
   "cell_type": "code",
   "execution_count": 31,
   "id": "d555d14f",
   "metadata": {},
   "outputs": [],
   "source": [
    "ls = np.linspace(1,5,10)"
   ]
  },
  {
   "cell_type": "code",
   "execution_count": 32,
   "id": "6b854876",
   "metadata": {},
   "outputs": [
    {
     "data": {
      "text/plain": [
       "array([1.        , 1.44444444, 1.88888889, 2.33333333, 2.77777778,\n",
       "       3.22222222, 3.66666667, 4.11111111, 4.55555556, 5.        ])"
      ]
     },
     "execution_count": 32,
     "metadata": {},
     "output_type": "execute_result"
    }
   ],
   "source": [
    "ls"
   ]
  },
  {
   "cell_type": "code",
   "execution_count": 33,
   "id": "31ef891b",
   "metadata": {},
   "outputs": [],
   "source": [
    "empty = np.empty((3,3)) "
   ]
  },
  {
   "cell_type": "code",
   "execution_count": 34,
   "id": "5059a342",
   "metadata": {},
   "outputs": [
    {
     "data": {
      "text/plain": [
       "array([[0.00000000e+000, 0.00000000e+000, 0.00000000e+000],\n",
       "       [0.00000000e+000, 0.00000000e+000, 7.17383318e-321],\n",
       "       [1.78019082e-306, 1.37959740e-306, 2.29178686e-312]])"
      ]
     },
     "execution_count": 34,
     "metadata": {},
     "output_type": "execute_result"
    }
   ],
   "source": [
    "empty"
   ]
  },
  {
   "cell_type": "code",
   "execution_count": 35,
   "id": "5dd92a70",
   "metadata": {},
   "outputs": [],
   "source": [
    "emptylike = np.empty_like(ls)"
   ]
  },
  {
   "cell_type": "code",
   "execution_count": 36,
   "id": "89782dfd",
   "metadata": {},
   "outputs": [
    {
     "data": {
      "text/plain": [
       "array([1.        , 1.44444444, 1.88888889, 2.33333333, 2.77777778,\n",
       "       3.22222222, 3.66666667, 4.11111111, 4.55555556, 5.        ])"
      ]
     },
     "execution_count": 36,
     "metadata": {},
     "output_type": "execute_result"
    }
   ],
   "source": [
    "emptylike"
   ]
  },
  {
   "cell_type": "code",
   "execution_count": 37,
   "id": "aebc0250",
   "metadata": {},
   "outputs": [],
   "source": [
    "idn = np.identity((5))"
   ]
  },
  {
   "cell_type": "code",
   "execution_count": 38,
   "id": "749774e8",
   "metadata": {},
   "outputs": [
    {
     "data": {
      "text/plain": [
       "array([[1., 0., 0., 0., 0.],\n",
       "       [0., 1., 0., 0., 0.],\n",
       "       [0., 0., 1., 0., 0.],\n",
       "       [0., 0., 0., 1., 0.],\n",
       "       [0., 0., 0., 0., 1.]])"
      ]
     },
     "execution_count": 38,
     "metadata": {},
     "output_type": "execute_result"
    }
   ],
   "source": [
    "idn"
   ]
  },
  {
   "cell_type": "code",
   "execution_count": 39,
   "id": "77b9f816",
   "metadata": {},
   "outputs": [
    {
     "data": {
      "text/plain": [
       "numpy.ndarray"
      ]
     },
     "execution_count": 39,
     "metadata": {},
     "output_type": "execute_result"
    }
   ],
   "source": [
    "type(idn)"
   ]
  },
  {
   "cell_type": "code",
   "execution_count": 40,
   "id": "14980d6e",
   "metadata": {},
   "outputs": [
    {
     "data": {
      "text/plain": [
       "(5, 5)"
      ]
     },
     "execution_count": 40,
     "metadata": {},
     "output_type": "execute_result"
    }
   ],
   "source": [
    "idn.shape"
   ]
  },
  {
   "cell_type": "code",
   "execution_count": 41,
   "id": "ae561b85",
   "metadata": {},
   "outputs": [],
   "source": [
    "array = np.arange(25)"
   ]
  },
  {
   "cell_type": "code",
   "execution_count": 42,
   "id": "619a11a4",
   "metadata": {},
   "outputs": [
    {
     "data": {
      "text/plain": [
       "array([ 0,  1,  2,  3,  4,  5,  6,  7,  8,  9, 10, 11, 12, 13, 14, 15, 16,\n",
       "       17, 18, 19, 20, 21, 22, 23, 24])"
      ]
     },
     "execution_count": 42,
     "metadata": {},
     "output_type": "execute_result"
    }
   ],
   "source": [
    "array"
   ]
  },
  {
   "cell_type": "code",
   "execution_count": 43,
   "id": "dbb5a3ea",
   "metadata": {},
   "outputs": [
    {
     "data": {
      "text/plain": [
       "array([[ 0,  1,  2,  3,  4],\n",
       "       [ 5,  6,  7,  8,  9],\n",
       "       [10, 11, 12, 13, 14],\n",
       "       [15, 16, 17, 18, 19],\n",
       "       [20, 21, 22, 23, 24]])"
      ]
     },
     "execution_count": 43,
     "metadata": {},
     "output_type": "execute_result"
    }
   ],
   "source": [
    "array.reshape(5,5)"
   ]
  },
  {
   "cell_type": "code",
   "execution_count": 44,
   "id": "8ee2f321",
   "metadata": {},
   "outputs": [
    {
     "ename": "ValueError",
     "evalue": "cannot reshape array of size 25 into shape (4,5)",
     "output_type": "error",
     "traceback": [
      "\u001b[1;31m---------------------------------------------------------------------------\u001b[0m",
      "\u001b[1;31mValueError\u001b[0m                                Traceback (most recent call last)",
      "Cell \u001b[1;32mIn[44], line 1\u001b[0m\n\u001b[1;32m----> 1\u001b[0m \u001b[43marray\u001b[49m\u001b[38;5;241;43m.\u001b[39;49m\u001b[43mreshape\u001b[49m\u001b[43m(\u001b[49m\u001b[38;5;241;43m4\u001b[39;49m\u001b[43m,\u001b[49m\u001b[38;5;241;43m5\u001b[39;49m\u001b[43m)\u001b[49m\n",
      "\u001b[1;31mValueError\u001b[0m: cannot reshape array of size 25 into shape (4,5)"
     ]
    }
   ],
   "source": [
    "array.reshape(4,5)"
   ]
  },
  {
   "cell_type": "code",
   "execution_count": 45,
   "id": "7c7fd296",
   "metadata": {},
   "outputs": [
    {
     "data": {
      "text/plain": [
       "array([ 0,  1,  2,  3,  4,  5,  6,  7,  8,  9, 10, 11, 12, 13, 14, 15, 16,\n",
       "       17, 18, 19, 20, 21, 22, 23, 24])"
      ]
     },
     "execution_count": 45,
     "metadata": {},
     "output_type": "execute_result"
    }
   ],
   "source": [
    "array"
   ]
  },
  {
   "cell_type": "code",
   "execution_count": 46,
   "id": "254d2d84",
   "metadata": {},
   "outputs": [],
   "source": [
    "array = array.reshape(5,5)"
   ]
  },
  {
   "cell_type": "code",
   "execution_count": 47,
   "id": "b222d22c",
   "metadata": {},
   "outputs": [
    {
     "data": {
      "text/plain": [
       "array([[ 0,  1,  2,  3,  4],\n",
       "       [ 5,  6,  7,  8,  9],\n",
       "       [10, 11, 12, 13, 14],\n",
       "       [15, 16, 17, 18, 19],\n",
       "       [20, 21, 22, 23, 24]])"
      ]
     },
     "execution_count": 47,
     "metadata": {},
     "output_type": "execute_result"
    }
   ],
   "source": [
    "array"
   ]
  },
  {
   "cell_type": "code",
   "execution_count": 48,
   "id": "a9eb6e48",
   "metadata": {},
   "outputs": [
    {
     "data": {
      "text/plain": [
       "array([ 0,  1,  2,  3,  4,  5,  6,  7,  8,  9, 10, 11, 12, 13, 14, 15, 16,\n",
       "       17, 18, 19, 20, 21, 22, 23, 24])"
      ]
     },
     "execution_count": 48,
     "metadata": {},
     "output_type": "execute_result"
    }
   ],
   "source": [
    "array.ravel()"
   ]
  },
  {
   "cell_type": "code",
   "execution_count": 49,
   "id": "dedd8991",
   "metadata": {},
   "outputs": [],
   "source": [
    "zeros = np.zeros((3,3))"
   ]
  },
  {
   "cell_type": "code",
   "execution_count": 50,
   "id": "a66cbcc9",
   "metadata": {},
   "outputs": [
    {
     "data": {
      "text/plain": [
       "array([[0., 0., 0.],\n",
       "       [0., 0., 0.],\n",
       "       [0., 0., 0.]])"
      ]
     },
     "execution_count": 50,
     "metadata": {},
     "output_type": "execute_result"
    }
   ],
   "source": [
    "zeros"
   ]
  },
  {
   "cell_type": "code",
   "execution_count": 51,
   "id": "c731105b",
   "metadata": {},
   "outputs": [
    {
     "data": {
      "text/plain": [
       "(3, 3)"
      ]
     },
     "execution_count": 51,
     "metadata": {},
     "output_type": "execute_result"
    }
   ],
   "source": [
    "zeros.shape"
   ]
  },
  {
   "cell_type": "markdown",
   "id": "0fe5198e",
   "metadata": {},
   "source": [
    "# AXIS0 AND AXIS1"
   ]
  },
  {
   "cell_type": "code",
   "execution_count": 52,
   "id": "eb4c499f",
   "metadata": {},
   "outputs": [],
   "source": [
    "ar = np.array([[1,2,3],[3,2,1],[3,4,5]])"
   ]
  },
  {
   "cell_type": "code",
   "execution_count": 53,
   "id": "56e9fa28",
   "metadata": {},
   "outputs": [
    {
     "data": {
      "text/plain": [
       "array([[1, 2, 3],\n",
       "       [3, 2, 1],\n",
       "       [3, 4, 5]])"
      ]
     },
     "execution_count": 53,
     "metadata": {},
     "output_type": "execute_result"
    }
   ],
   "source": [
    "ar"
   ]
  },
  {
   "cell_type": "code",
   "execution_count": 54,
   "id": "30eada00",
   "metadata": {},
   "outputs": [
    {
     "data": {
      "text/plain": [
       "array([7, 8, 9])"
      ]
     },
     "execution_count": 54,
     "metadata": {},
     "output_type": "execute_result"
    }
   ],
   "source": [
    "ar.sum(axis=0)"
   ]
  },
  {
   "cell_type": "code",
   "execution_count": 55,
   "id": "753a0331",
   "metadata": {},
   "outputs": [
    {
     "data": {
      "text/plain": [
       "array([ 6,  6, 12])"
      ]
     },
     "execution_count": 55,
     "metadata": {},
     "output_type": "execute_result"
    }
   ],
   "source": [
    "ar.sum(axis=1)"
   ]
  },
  {
   "cell_type": "markdown",
   "id": "d59ac30d",
   "metadata": {},
   "source": [
    "# Attributes"
   ]
  },
  {
   "cell_type": "code",
   "execution_count": 56,
   "id": "38d9a9f9",
   "metadata": {},
   "outputs": [
    {
     "data": {
      "text/plain": [
       "array([[1, 3, 3],\n",
       "       [2, 2, 4],\n",
       "       [3, 1, 5]])"
      ]
     },
     "execution_count": 56,
     "metadata": {},
     "output_type": "execute_result"
    }
   ],
   "source": [
    "#Transpose (Convert rows into colums)\n",
    "ar.T"
   ]
  },
  {
   "cell_type": "code",
   "execution_count": 57,
   "id": "92aada2c",
   "metadata": {},
   "outputs": [
    {
     "data": {
      "text/plain": [
       "<numpy.flatiter at 0x2646b22bc50>"
      ]
     },
     "execution_count": 57,
     "metadata": {},
     "output_type": "execute_result"
    }
   ],
   "source": [
    "#itarator creater\n",
    "ar.flat"
   ]
  },
  {
   "cell_type": "code",
   "execution_count": 58,
   "id": "b484cbac",
   "metadata": {},
   "outputs": [
    {
     "name": "stdout",
     "output_type": "stream",
     "text": [
      "[1 2 3]\n",
      "[3 2 1]\n",
      "[3 4 5]\n"
     ]
    }
   ],
   "source": [
    "for i in ar:\n",
    "    print(i)"
   ]
  },
  {
   "cell_type": "code",
   "execution_count": 59,
   "id": "9d87cc0c",
   "metadata": {},
   "outputs": [
    {
     "name": "stdout",
     "output_type": "stream",
     "text": [
      "1\n",
      "2\n",
      "3\n",
      "3\n",
      "2\n",
      "1\n",
      "3\n",
      "4\n",
      "5\n"
     ]
    }
   ],
   "source": [
    "for item in ar.flat:\n",
    "    print(item)"
   ]
  },
  {
   "cell_type": "code",
   "execution_count": 60,
   "id": "eaf95997",
   "metadata": {},
   "outputs": [
    {
     "data": {
      "text/plain": [
       "2"
      ]
     },
     "execution_count": 60,
     "metadata": {},
     "output_type": "execute_result"
    }
   ],
   "source": [
    "# number of dimensions\n",
    "ar.ndim"
   ]
  },
  {
   "cell_type": "code",
   "execution_count": 61,
   "id": "33c92469",
   "metadata": {},
   "outputs": [
    {
     "data": {
      "text/plain": [
       "9"
      ]
     },
     "execution_count": 61,
     "metadata": {},
     "output_type": "execute_result"
    }
   ],
   "source": [
    "ar.size"
   ]
  },
  {
   "cell_type": "code",
   "execution_count": 62,
   "id": "2d6331b1",
   "metadata": {},
   "outputs": [
    {
     "data": {
      "text/plain": [
       "36"
      ]
     },
     "execution_count": 62,
     "metadata": {},
     "output_type": "execute_result"
    }
   ],
   "source": [
    "ar.nbytes"
   ]
  },
  {
   "cell_type": "code",
   "execution_count": 63,
   "id": "57fba6e7",
   "metadata": {},
   "outputs": [
    {
     "data": {
      "text/plain": [
       "array([[0, 0, 0],\n",
       "       [0, 0, 0],\n",
       "       [0, 0, 0]])"
      ]
     },
     "execution_count": 63,
     "metadata": {},
     "output_type": "execute_result"
    }
   ],
   "source": [
    "ar.imag"
   ]
  },
  {
   "cell_type": "markdown",
   "id": "dff2344f",
   "metadata": {},
   "source": [
    "# Numpy Methods"
   ]
  },
  {
   "cell_type": "code",
   "execution_count": 64,
   "id": "e44d1fbf",
   "metadata": {},
   "outputs": [],
   "source": [
    "x = np.array([2,4,6,5])"
   ]
  },
  {
   "cell_type": "code",
   "execution_count": 65,
   "id": "e4ba29d0",
   "metadata": {},
   "outputs": [
    {
     "data": {
      "text/plain": [
       "2"
      ]
     },
     "execution_count": 65,
     "metadata": {},
     "output_type": "execute_result"
    }
   ],
   "source": [
    "#max value of index\n",
    "x.argmax()"
   ]
  },
  {
   "cell_type": "code",
   "execution_count": 66,
   "id": "2033b8d1",
   "metadata": {},
   "outputs": [
    {
     "data": {
      "text/plain": [
       "0"
      ]
     },
     "execution_count": 66,
     "metadata": {},
     "output_type": "execute_result"
    }
   ],
   "source": [
    "#min value of index\n",
    "x.argmin()"
   ]
  },
  {
   "cell_type": "code",
   "execution_count": 67,
   "id": "8f7d263c",
   "metadata": {},
   "outputs": [
    {
     "data": {
      "text/plain": [
       "array([0, 1, 3, 2], dtype=int64)"
      ]
     },
     "execution_count": 67,
     "metadata": {},
     "output_type": "execute_result"
    }
   ],
   "source": [
    "#sort array\n",
    "x.argsort()"
   ]
  },
  {
   "cell_type": "code",
   "execution_count": 68,
   "id": "a8473897",
   "metadata": {},
   "outputs": [
    {
     "data": {
      "text/plain": [
       "array([[1, 2, 3],\n",
       "       [3, 2, 1],\n",
       "       [3, 4, 5]])"
      ]
     },
     "execution_count": 68,
     "metadata": {},
     "output_type": "execute_result"
    }
   ],
   "source": [
    "#sort 2d array\n",
    "ar"
   ]
  },
  {
   "cell_type": "code",
   "execution_count": 69,
   "id": "d9f39a59",
   "metadata": {},
   "outputs": [
    {
     "data": {
      "text/plain": [
       "0"
      ]
     },
     "execution_count": 69,
     "metadata": {},
     "output_type": "execute_result"
    }
   ],
   "source": [
    "ar.argmin()"
   ]
  },
  {
   "cell_type": "code",
   "execution_count": 70,
   "id": "81dec42b",
   "metadata": {},
   "outputs": [
    {
     "data": {
      "text/plain": [
       "8"
      ]
     },
     "execution_count": 70,
     "metadata": {},
     "output_type": "execute_result"
    }
   ],
   "source": [
    "ar.argmax()"
   ]
  },
  {
   "cell_type": "code",
   "execution_count": 71,
   "id": "1abd7ad2",
   "metadata": {},
   "outputs": [
    {
     "data": {
      "text/plain": [
       "array([1, 2, 2], dtype=int64)"
      ]
     },
     "execution_count": 71,
     "metadata": {},
     "output_type": "execute_result"
    }
   ],
   "source": [
    "ar.argmax(axis=0)"
   ]
  },
  {
   "cell_type": "code",
   "execution_count": 72,
   "id": "49af9d40",
   "metadata": {},
   "outputs": [
    {
     "data": {
      "text/plain": [
       "array([2, 0, 2], dtype=int64)"
      ]
     },
     "execution_count": 72,
     "metadata": {},
     "output_type": "execute_result"
    }
   ],
   "source": [
    "ar.argmax(axis=1)"
   ]
  },
  {
   "cell_type": "code",
   "execution_count": 73,
   "id": "dd8dd9ee",
   "metadata": {},
   "outputs": [
    {
     "data": {
      "text/plain": [
       "array([[0, 1, 2],\n",
       "       [2, 1, 0],\n",
       "       [0, 1, 2]], dtype=int64)"
      ]
     },
     "execution_count": 73,
     "metadata": {},
     "output_type": "execute_result"
    }
   ],
   "source": [
    "ar.argsort()"
   ]
  },
  {
   "cell_type": "code",
   "execution_count": 74,
   "id": "b9d112e4",
   "metadata": {},
   "outputs": [
    {
     "data": {
      "text/plain": [
       "array([[0, 1, 2],\n",
       "       [2, 1, 0],\n",
       "       [0, 1, 2]], dtype=int64)"
      ]
     },
     "execution_count": 74,
     "metadata": {},
     "output_type": "execute_result"
    }
   ],
   "source": [
    "ar.argsort(axis=1)"
   ]
  },
  {
   "cell_type": "code",
   "execution_count": 75,
   "id": "86d9f550",
   "metadata": {},
   "outputs": [
    {
     "data": {
      "text/plain": [
       "array([[0, 0, 1],\n",
       "       [1, 1, 0],\n",
       "       [2, 2, 2]], dtype=int64)"
      ]
     },
     "execution_count": 75,
     "metadata": {},
     "output_type": "execute_result"
    }
   ],
   "source": [
    "ar.argsort(axis=0)"
   ]
  },
  {
   "cell_type": "code",
   "execution_count": 76,
   "id": "6a2f8be0",
   "metadata": {},
   "outputs": [
    {
     "data": {
      "text/plain": [
       "array([[1, 2, 3],\n",
       "       [3, 2, 1],\n",
       "       [3, 4, 5]])"
      ]
     },
     "execution_count": 76,
     "metadata": {},
     "output_type": "execute_result"
    }
   ],
   "source": [
    "ar"
   ]
  },
  {
   "cell_type": "code",
   "execution_count": 77,
   "id": "31d08205",
   "metadata": {},
   "outputs": [
    {
     "data": {
      "text/plain": [
       "array([[1.        , 1.41421356, 1.73205081],\n",
       "       [1.73205081, 1.41421356, 1.        ],\n",
       "       [1.73205081, 2.        , 2.23606798]])"
      ]
     },
     "execution_count": 77,
     "metadata": {},
     "output_type": "execute_result"
    }
   ],
   "source": [
    "np.sqrt(ar)"
   ]
  },
  {
   "cell_type": "code",
   "execution_count": 78,
   "id": "a3febdc7",
   "metadata": {},
   "outputs": [
    {
     "data": {
      "text/plain": [
       "24"
      ]
     },
     "execution_count": 78,
     "metadata": {},
     "output_type": "execute_result"
    }
   ],
   "source": [
    "ar.sum()"
   ]
  },
  {
   "cell_type": "code",
   "execution_count": 79,
   "id": "2866e1df",
   "metadata": {},
   "outputs": [
    {
     "data": {
      "text/plain": [
       "5"
      ]
     },
     "execution_count": 79,
     "metadata": {},
     "output_type": "execute_result"
    }
   ],
   "source": [
    "ar.max()"
   ]
  },
  {
   "cell_type": "code",
   "execution_count": 80,
   "id": "a127b196",
   "metadata": {},
   "outputs": [
    {
     "data": {
      "text/plain": [
       "1"
      ]
     },
     "execution_count": 80,
     "metadata": {},
     "output_type": "execute_result"
    }
   ],
   "source": [
    "ar.min()"
   ]
  },
  {
   "cell_type": "code",
   "execution_count": 81,
   "id": "c55ca118",
   "metadata": {},
   "outputs": [
    {
     "data": {
      "text/plain": [
       "array([[1, 2, 3],\n",
       "       [3, 2, 1],\n",
       "       [3, 4, 5]])"
      ]
     },
     "execution_count": 81,
     "metadata": {},
     "output_type": "execute_result"
    }
   ],
   "source": [
    "#find element in array\n",
    "ar"
   ]
  },
  {
   "cell_type": "code",
   "execution_count": 82,
   "id": "7cca0d73",
   "metadata": {},
   "outputs": [
    {
     "data": {
      "text/plain": [
       "(array([2, 2], dtype=int64), array([1, 2], dtype=int64))"
      ]
     },
     "execution_count": 82,
     "metadata": {},
     "output_type": "execute_result"
    }
   ],
   "source": [
    "np.where(ar>3)"
   ]
  },
  {
   "cell_type": "code",
   "execution_count": 83,
   "id": "41e303f5",
   "metadata": {},
   "outputs": [
    {
     "data": {
      "text/plain": [
       "9"
      ]
     },
     "execution_count": 83,
     "metadata": {},
     "output_type": "execute_result"
    }
   ],
   "source": [
    "np.count_nonzero(ar)"
   ]
  },
  {
   "cell_type": "code",
   "execution_count": 84,
   "id": "46441ad5",
   "metadata": {},
   "outputs": [
    {
     "data": {
      "text/plain": [
       "(array([0, 0, 0, 1, 1, 1, 2, 2, 2], dtype=int64),\n",
       " array([0, 1, 2, 0, 1, 2, 0, 1, 2], dtype=int64))"
      ]
     },
     "execution_count": 84,
     "metadata": {},
     "output_type": "execute_result"
    }
   ],
   "source": [
    "np.nonzero(ar)"
   ]
  },
  {
   "cell_type": "markdown",
   "id": "a3795387",
   "metadata": {},
   "source": [
    "# Check Diffirence between python list vs numPy Array"
   ]
  },
  {
   "cell_type": "code",
   "execution_count": 85,
   "id": "ea5b5ce4",
   "metadata": {},
   "outputs": [],
   "source": [
    "import sys"
   ]
  },
  {
   "cell_type": "code",
   "execution_count": 86,
   "id": "3bf0f155",
   "metadata": {},
   "outputs": [],
   "source": [
    "pylist = [2,444,5,55,90]"
   ]
  },
  {
   "cell_type": "code",
   "execution_count": 87,
   "id": "4c42ce8a",
   "metadata": {},
   "outputs": [],
   "source": [
    "npArray = np.array(pylist)"
   ]
  },
  {
   "cell_type": "code",
   "execution_count": 88,
   "id": "7b880bcf",
   "metadata": {},
   "outputs": [
    {
     "data": {
      "text/plain": [
       "140"
      ]
     },
     "execution_count": 88,
     "metadata": {},
     "output_type": "execute_result"
    }
   ],
   "source": [
    "sys.getsizeof(1)* len(pylist)"
   ]
  },
  {
   "cell_type": "code",
   "execution_count": 89,
   "id": "de7d011d",
   "metadata": {},
   "outputs": [
    {
     "data": {
      "text/plain": [
       "20"
      ]
     },
     "execution_count": 89,
     "metadata": {},
     "output_type": "execute_result"
    }
   ],
   "source": [
    "npArray.itemsize* npArray.size"
   ]
  }
 ],
 "metadata": {
  "kernelspec": {
   "display_name": "Python 3 (ipykernel)",
   "language": "python",
   "name": "python3"
  },
  "language_info": {
   "codemirror_mode": {
    "name": "ipython",
    "version": 3
   },
   "file_extension": ".py",
   "mimetype": "text/x-python",
   "name": "python",
   "nbconvert_exporter": "python",
   "pygments_lexer": "ipython3",
   "version": "3.11.0"
  }
 },
 "nbformat": 4,
 "nbformat_minor": 5
}
